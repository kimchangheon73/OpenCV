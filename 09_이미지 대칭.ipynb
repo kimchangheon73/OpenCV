{
 "cells": [
  {
   "cell_type": "code",
   "execution_count": 8,
   "id": "725b4a1e",
   "metadata": {},
   "outputs": [],
   "source": [
    "# 좌우 대칭\n",
    "import cv2\n",
    "\n",
    "img =cv2.imread(\"./IMG_VIDEO/img.jpg\")\n",
    "filp_horizion = cv2.flip(img,1)        # flipCode > 0 : 좌우대칭 이미지\n",
    "\n",
    "cv2.imshow(\"img\",img)\n",
    "cv2.imshow(\"filp\",filp_horizion)\n",
    "cv2.waitKey(0)\n",
    "cv2.destroyAllWindows()"
   ]
  },
  {
   "cell_type": "code",
   "execution_count": 9,
   "id": "9a173141",
   "metadata": {},
   "outputs": [],
   "source": [
    "# 상하 대칭\n",
    "img =cv2.imread(\"./IMG_VIDEO/img.jpg\")\n",
    "filp_vertical = cv2.flip(img,0)        # flipCode = 0 : 상하대칭\n",
    "\n",
    "cv2.imshow(\"img\",img)\n",
    "cv2.imshow(\"filp\",filp_vertical)\n",
    "cv2.waitKey(0)\n",
    "cv2.destroyAllWindows()"
   ]
  },
  {
   "cell_type": "code",
   "execution_count": 10,
   "id": "f708625d",
   "metadata": {},
   "outputs": [],
   "source": [
    "# 상하좌우 대칭\n",
    "img =cv2.imread(\"./IMG_VIDEO/img.jpg\")\n",
    "filp_both = cv2.flip(img,-1)        # flipCode <0 : 상하좌우대ㅣㅇ\n",
    "\n",
    "cv2.imshow(\"img\",img)\n",
    "cv2.imshow(\"filp\",filp_both)\n",
    "cv2.waitKey(0)\n",
    "cv2.destroyAllWindows()"
   ]
  },
  {
   "cell_type": "code",
   "execution_count": 12,
   "id": "a9afa504",
   "metadata": {},
   "outputs": [],
   "source": [
    "# 4방향 \n",
    "import cv2\n",
    "img = cv2.imread(\"./IMG_VIDEO/img.jpg\")\n",
    "img_horizon = cv2.flip(img,1)\n",
    "img_vertical = cv2.flip(img,0)\n",
    "img_both = cv2.flip(img,-1)\n",
    "\n",
    "cv2.imshow('img',img)\n",
    "cv2.imshow('img_h',img_horizon)\n",
    "cv2.imshow('img_v',img_vertical)\n",
    "cv2.imshow('img_b',img_both)\n",
    "\n",
    "cv2.waitKey(0)\n",
    "cv2.destroyAllWindows()"
   ]
  },
  {
   "cell_type": "code",
   "execution_count": null,
   "id": "65d8312e",
   "metadata": {},
   "outputs": [],
   "source": []
  }
 ],
 "metadata": {
  "kernelspec": {
   "display_name": "Python 3.8.8 ('base')",
   "language": "python",
   "name": "python3"
  },
  "language_info": {
   "codemirror_mode": {
    "name": "ipython",
    "version": 3
   },
   "file_extension": ".py",
   "mimetype": "text/x-python",
   "name": "python",
   "nbconvert_exporter": "python",
   "pygments_lexer": "ipython3",
   "version": "3.8.8"
  },
  "vscode": {
   "interpreter": {
    "hash": "ad2bdc8ecc057115af97d19610ffacc2b4e99fae6737bb82f5d7fb13d2f2c186"
   }
  }
 },
 "nbformat": 4,
 "nbformat_minor": 5
}
