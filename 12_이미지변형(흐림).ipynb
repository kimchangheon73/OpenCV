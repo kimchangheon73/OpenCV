{
 "cells": [
  {
   "cell_type": "code",
   "execution_count": 4,
   "id": "8df55c0d",
   "metadata": {},
   "outputs": [],
   "source": [
    "# 이미지 변형 - 흐림\n",
    "# 보이는 정도를 조절하여 외곽선 검출을 효율적으로 하기 위해 사용\n",
    "\n",
    "import cv2"
   ]
  },
  {
   "cell_type": "markdown",
   "id": "3d21fd34",
   "metadata": {},
   "source": [
    "## 가우시안 블러"
   ]
  },
  {
   "cell_type": "code",
   "execution_count": 6,
   "id": "f8603e58",
   "metadata": {},
   "outputs": [],
   "source": [
    "# 커널 사이즈 변화에 따른 블러\n",
    "img = cv2.imread(\"./img.jpg\")\n",
    "\n",
    "# (3,3), (5,5), (7,7) 사이즈에 대한 변환에 대해 가장 성능이 좋음\n",
    "kernel_3 = cv2.GaussianBlur(img, (3,3), 0)\n",
    "kernel_5 = cv2.GaussianBlur(img, (5,5), 0)\n",
    "kernel_7 = cv2.GaussianBlur(img, (7,7), 0)\n",
    "\n",
    "cv2.imshow(\"img\",img)\n",
    "cv2.imshow(\"img3\",kernel_3)\n",
    "cv2.imshow(\"img5\",kernel_5)\n",
    "cv2.imshow(\"img7\",kernel_7)\n",
    "\n",
    "cv2.waitKey(0)\n",
    "cv2.destroyAllWindows()"
   ]
  },
  {
   "cell_type": "code",
   "execution_count": 8,
   "id": "46d2b5a0",
   "metadata": {},
   "outputs": [],
   "source": [
    "# 표준 편차 변화에 따른 흐림\n",
    "img = cv2.imread(\"./img.jpg\")\n",
    "\n",
    "# (3,3), (5,5), (7,7) 사이즈에 대한 변환에 대해 가장 성능이 좋음\n",
    "# 변환할 이미지, 커널크키, 표준편차 (가우시안 커널의 x방향의 표준편차)\n",
    "img1 = cv2.GaussianBlur(img, (0,0), 1)\n",
    "img2 = cv2.GaussianBlur(img, (0,0), 2)\n",
    "img3 = cv2.GaussianBlur(img, (0,0), 3)  # 편차 값이 커질수록 흐림정도가 커짐\n",
    "\n",
    "cv2.imshow(\"img\",img)\n",
    "cv2.imshow(\"img1\",img1)\n",
    "cv2.imshow(\"img2\",img2)\n",
    "cv2.imshow(\"img3\",img3)\n",
    "\n",
    "cv2.waitKey(0)\n",
    "cv2.destroyAllWindows()"
   ]
  }
 ],
 "metadata": {
  "kernelspec": {
   "display_name": "Python 3.7.3 64-bit",
   "language": "python",
   "name": "python3"
  },
  "language_info": {
   "codemirror_mode": {
    "name": "ipython",
    "version": 3
   },
   "file_extension": ".py",
   "mimetype": "text/x-python",
   "name": "python",
   "nbconvert_exporter": "python",
   "pygments_lexer": "ipython3",
   "version": "3.7.3"
  },
  "vscode": {
   "interpreter": {
    "hash": "5109d816b82be14675a6b11f8e0f0d2e80f029176ed3710d54e125caa8520dfd"
   }
  }
 },
 "nbformat": 4,
 "nbformat_minor": 5
}
