{
 "cells": [
  {
   "cell_type": "markdown",
   "metadata": {},
   "source": [
    "# 동영상 카메라 출력"
   ]
  },
  {
   "cell_type": "code",
   "execution_count": null,
   "metadata": {},
   "outputs": [],
   "source": [
    "import cv2\n",
    "cap = cv2.VideoCapture(0)                  # 디바이스 아이디를 입력 (0 : 0번째 카메라 장치)\n",
    "\n",
    "if not cap.isOpened():                     # 카메라가 잘 열리지 않은 경우\n",
    "    exit()                                 # 프로그램 종료   \n",
    "\n",
    "\n",
    "while True:                \n",
    "    ret, frame = cap.read()          \n",
    "    if not ret:\n",
    "        break\n",
    "    \n",
    "    cv2.imshow(\"camera\",frame)\n",
    "    \n",
    "    if cv2.waitKey(1) == ord('q'):         # 사용자가 'q'를 누르면 화면 출력 종료\n",
    "        print('사용자 입력에 의해 종료합니다')\n",
    "        break\n",
    "    \n",
    "\n",
    "cap.release()                        \n",
    "cv2.destroyAllWindows()"
   ]
  }
 ],
 "metadata": {
  "kernelspec": {
   "display_name": "Python 3.9.7 ('base')",
   "language": "python",
   "name": "python3"
  },
  "language_info": {
   "codemirror_mode": {
    "name": "ipython",
    "version": 3
   },
   "file_extension": ".py",
   "mimetype": "text/x-python",
   "name": "python",
   "nbconvert_exporter": "python",
   "pygments_lexer": "ipython3",
   "version": "3.9.7"
  },
  "orig_nbformat": 4,
  "vscode": {
   "interpreter": {
    "hash": "8df4e0e0c796e2e15924145e6441c62a115ba500877f31d29fc14fd3395fcd67"
   }
  }
 },
 "nbformat": 4,
 "nbformat_minor": 2
}
