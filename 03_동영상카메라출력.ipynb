{
 "cells": [
  {
   "cell_type": "markdown",
   "metadata": {},
   "source": [
    "# 동영상 카메라 출력"
   ]
  },
  {
   "cell_type": "code",
   "execution_count": 1,
   "metadata": {},
   "outputs": [
    {
     "name": "stdout",
     "output_type": "stream",
     "text": [
      "사용자 입력에 의해 종료합니다\n",
      "(500, 800, 3)\n"
     ]
    }
   ],
   "source": [
    "import cv2\n",
    "cap = cv2.VideoCapture(0)                  # 디바이스 아이디를 입력 (0 : 0번째 카메라 장치)\n",
    "\n",
    "if not cap.isOpened():                     # 카메라가 잘 열리지 않은 경우\n",
    "    exit()                                 # 프로그램 종료   \n",
    "\n",
    "\n",
    "while True:                \n",
    "    ret, frame = cap.read()          \n",
    "    if not ret:\n",
    "        break\n",
    "    \n",
    "    frame = cv2.resize(frame, (800,500))\n",
    "    cv2.imshow(\"camera\",frame)\n",
    "    \n",
    "    if cv2.waitKey(1) == ord('q'):         # 사용자가 'q'를 누르면 화면 출력 종료\n",
    "        print('사용자 입력에 의해 종료합니다')\n",
    "        print(frame.shape)\n",
    "        break\n",
    "    \n",
    "\n",
    "cap.release()                        \n",
    "cv2.destroyAllWindows()"
   ]
  }
 ],
 "metadata": {
  "kernelspec": {
   "display_name": "Python 3.7.3 64-bit",
   "language": "python",
   "name": "python3"
  },
  "language_info": {
   "codemirror_mode": {
    "name": "ipython",
    "version": 3
   },
   "file_extension": ".py",
   "mimetype": "text/x-python",
   "name": "python",
   "nbconvert_exporter": "python",
   "pygments_lexer": "ipython3",
   "version": "3.7.3"
  },
  "orig_nbformat": 4,
  "vscode": {
   "interpreter": {
    "hash": "5109d816b82be14675a6b11f8e0f0d2e80f029176ed3710d54e125caa8520dfd"
   }
  }
 },
 "nbformat": 4,
 "nbformat_minor": 2
}
