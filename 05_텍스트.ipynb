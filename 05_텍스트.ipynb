{
 "cells": [
  {
   "cell_type": "markdown",
   "metadata": {},
   "source": [
    "# 05. 텍스트\n",
    "- OpenCV에서 사용하는 글꼴 종류 \n",
    "    - cv2.FONT_HERSHEY_SIMPLEX --- 보통 크기의 산 세리프 글꼴\n",
    "    - cv2.FONT_HERSHEY_PLAIN --- 작은 크기의 산 세리프 글 꼴\n",
    "    - cv2.FONT_HERSHEY_SCRIPT_SIMPLEX --- 필기체 스타일 글꼴\n",
    "    - cv2.FONT_HERSHEY_TRIPLEX --- 보통 크기의 세리프 글꼴\n",
    "    - cv2.FONT_ITALIC --- 기울임 (이탤릭체), 다른 폰트와 같이 쓰임 ( 폰트 | 이탤릭 ) "
   ]
  },
  {
   "cell_type": "code",
   "execution_count": 7,
   "metadata": {},
   "outputs": [],
   "source": [
    "import numpy as np\n",
    "import cv2 \n",
    "\n",
    "img = np.zeros((480,640,3))\n",
    "\n",
    "color =(255,255,255)    # 색상\n",
    "thickness = 3           # 두께\n",
    "scale = 2               # 크기\n",
    "\n",
    "# 그릴 위치, 그릴 텍스트, 시작좌표, 폰트, 크기, 색상, 두께 \n",
    "cv2.putText(img, \"Nado Simplex\",(20,50), cv2.FONT_HERSHEY_SIMPLEX, scale, color, thickness) \n",
    "cv2.putText(img, \"Nado Plain\",(20,150), cv2.FONT_HERSHEY_PLAIN, scale, color, thickness) \n",
    "cv2.putText(img, \"Nado Script Simplex\",(20,250), cv2.FONT_HERSHEY_SCRIPT_SIMPLEX, scale, color, thickness) \n",
    "cv2.putText(img, \"Nado Triplex\",(20,350), cv2.FONT_HERSHEY_TRIPLEX, scale, color, thickness) \n",
    "cv2.putText(img, \"Nado Italic\",(20,450), cv2.FONT_HERSHEY_TRIPLEX | cv2.FONT_ITALIC, scale, color, thickness) \n",
    "\n",
    "cv2.imshow(\"img\",img)\n",
    "cv2.waitKey(0)\n",
    "cv2.destroyAllWindows()"
   ]
  },
  {
   "cell_type": "markdown",
   "metadata": {},
   "source": [
    "## 한글 우회 방법\n",
    "- OpenCV에서는 한글을 지원하지 않아 우회를 해야함"
   ]
  },
  {
   "cell_type": "code",
   "execution_count": 11,
   "metadata": {},
   "outputs": [],
   "source": [
    "from PIL import ImageFont, ImageDraw, Image\n",
    "\n",
    "def MyPutText(src, text, pos, font_size, font_color):\n",
    "    img_pil = Image.fromarray(src)\n",
    "    draw = ImageDraw.Draw(img_pil)\n",
    "    font = ImageFont.truetype(\"fonts/gulim.ttc\",font_size)\n",
    "    draw.text(pos, text, font=font, fill=font_color)\n",
    "    return np.array(img_pil)"
   ]
  },
  {
   "cell_type": "code",
   "execution_count": 14,
   "metadata": {},
   "outputs": [],
   "source": [
    "import numpy as np\n",
    "import cv2 \n",
    "\n",
    "img = np.zeros((480,640,3), dtype=np.uint8)\n",
    "\n",
    "color =(255,255,255)    # 색상\n",
    "font_size = 30\n",
    "\n",
    "# cv2.putText(img, \"나도 코딩\", (20,50), cv2.FONT_HERSHEY_SIMPLEX, scale, color, thickness) \n",
    "img = MyPutText(img, \"나도코딩\", (20,50), font_size, color )\n",
    "\n",
    "cv2.imshow(\"img\",img)\n",
    "cv2.waitKey(0)\n",
    "cv2.destroyAllWindows()"
   ]
  }
 ],
 "metadata": {
  "kernelspec": {
   "display_name": "Python 3.9.7 ('base')",
   "language": "python",
   "name": "python3"
  },
  "language_info": {
   "codemirror_mode": {
    "name": "ipython",
    "version": 3
   },
   "file_extension": ".py",
   "mimetype": "text/x-python",
   "name": "python",
   "nbconvert_exporter": "python",
   "pygments_lexer": "ipython3",
   "version": "3.9.7"
  },
  "orig_nbformat": 4,
  "vscode": {
   "interpreter": {
    "hash": "8df4e0e0c796e2e15924145e6441c62a115ba500877f31d29fc14fd3395fcd67"
   }
  }
 },
 "nbformat": 4,
 "nbformat_minor": 2
}
