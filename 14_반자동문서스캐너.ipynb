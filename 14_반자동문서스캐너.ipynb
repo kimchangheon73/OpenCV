{
 "cells": [
  {
   "cell_type": "markdown",
   "metadata": {},
   "source": [
    "# 미니 프로젝트 반자동 문서 스캐너"
   ]
  },
  {
   "cell_type": "markdown",
   "metadata": {},
   "source": [
    "### 마우스 이벤트 등록"
   ]
  },
  {
   "cell_type": "code",
   "execution_count": null,
   "metadata": {},
   "outputs": [],
   "source": [
    "import cv2\n",
    "\n",
    "# 이벤트 함수 작성\n",
    "def mouse_handler(event,x,y,flags,param):\n",
    "    if event == cv2.EVENT_LBUTTONDOWN:\n",
    "        print(\"왼쪽 버튼 down\")\n",
    "        print(x,y)\n",
    "    elif event == cv2.EVENT_LBUTTONUP:\n",
    "        print(\"왼쪽 버튼 up\")\n",
    "        print(x,y)\n",
    "    # 두번 클릭하기 때문에 down- up - dblclick - up의 이벤트가 발생됨\n",
    "    elif event == cv2.EVENT_LBUTTONDBLCLK:\n",
    "        print(\"왼쪽 버튼 더블클릭\")\n",
    "    # elif event == cv2.EVENT_MOUSEMOVE:\n",
    "    #     print(\"마우스 이동\")\n",
    "    \n",
    "\n",
    "img = cv2.imread(\"poker.jpg\")\n",
    "\n",
    "# img란 이름의 윈도우를 먼저 만들어 주는 것, 여기에 마우스 이벤트를 처리하기 위한 핸들러 적용\n",
    "cv2.namedWindow(\"img\")\n",
    "\n",
    "# img란 윈도우에 mouse_handler라는 함수를 적용한다 \n",
    "cv2.setMouseCallback('img',mouse_handler)\n",
    "\n",
    "cv2.imshow(\"img\",img)\n",
    "cv2.waitKey(0)\n",
    "cv2.destroyAllWindows()"
   ]
  },
  {
   "cell_type": "markdown",
   "metadata": {},
   "source": [
    "### 프로젝트 기본코드"
   ]
  },
  {
   "cell_type": "code",
   "execution_count": 8,
   "metadata": {},
   "outputs": [],
   "source": [
    "import cv2\n",
    "import numpy as np\n",
    "\n",
    "point_list = []\n",
    "def mouse_handler(event,x,y,flags,param):\n",
    "    if event == cv2.EVENT_LBUTTONDOWN:        # 왼쪽 버튼 클릭 시 해당 위치 좌표를 리스트에 추가\n",
    "        point_list.append((x,y))\n",
    "        \n",
    "    for point in point_list:\n",
    "        cv2.circle(src_img, point, 15, (255,255,0), cv2.FILLED)\n",
    "        \n",
    "    cv2.imshow('img',src_img)\n",
    "    \n",
    "    if len(point_list) ==4:\n",
    "        show_result(point_list)\n",
    "        \n",
    "def show_result(point_list):\n",
    "    width, height = 530, 710\n",
    "\n",
    "    src = np.float32(point_list)\n",
    "    dst = np.array([[0,0],[width,0],[width,height],[0,height]], dtype=np.float32)\n",
    "\n",
    "    matrix = cv2.getPerspectiveTransform(src,dst)\n",
    "    result = cv2.warpPerspective(src_img, matrix, (width, height))\n",
    "    cv2.imshow(\"result\",result)\n",
    "\n",
    "        \n",
    "        \n",
    "src_img = cv2.imread(\"./poker.jpg\")\n",
    "\n",
    "cv2.namedWindow(\"img\")\n",
    "cv2.setMouseCallback('img',mouse_handler)\n",
    "\n",
    "cv2.imshow(\"img\",src_img)\n",
    "cv2.waitKey(0)\n",
    "cv2.destroyAllWindows()"
   ]
  },
  {
   "cell_type": "markdown",
   "metadata": {},
   "source": [
    "- 지점 선 긋기"
   ]
  },
  {
   "cell_type": "code",
   "execution_count": null,
   "metadata": {},
   "outputs": [],
   "source": [
    "import cv2\n",
    "import numpy as np\n",
    "\n",
    "color = (255,255,0)\n",
    "thickness = 3\n",
    "drawing = False # 선을 그릴지 여부 \n",
    "\n",
    "point_list = []\n",
    "def mouse_handler(event,x,y,flags,param):\n",
    "    global drawing\n",
    "    \n",
    "    if event == cv2.EVENT_LBUTTONDOWN:\n",
    "        drawing = True\n",
    "        point_list.append((x,y))\n",
    "        \n",
    "    if drawing:\n",
    "        prev_point = None               # 직선의 시작점\n",
    "        for point in point_list:\n",
    "            cv2.circle(src_img, point, 15, color , cv2.FILLED)\n",
    "            if prev_point:\n",
    "                cv2.line(src_img, prev_point, point, color, thickness, cv2.LINE_AA)\n",
    "            prev_point=point\n",
    "        \n",
    "    cv2.imshow('img',src_img)\n",
    "    \n",
    "    if len(point_list) ==4:\n",
    "        show_result(point_list)\n",
    "        \n",
    "def show_result(point_list):\n",
    "    width, height = 530, 710\n",
    "\n",
    "    src = np.float32(point_list)\n",
    "    dst = np.array([[0,0],[width,0],[width,height],[0,height]], dtype=np.float32)\n",
    "\n",
    "    matrix = cv2.getPerspectiveTransform(src,dst)\n",
    "    result = cv2.warpPerspective(src_img, matrix, (width, height))\n",
    "    cv2.imshow(\"result\",result)\n",
    "\n",
    "        \n",
    "        \n",
    "src_img = cv2.imread(\"./poker.jpg\")\n",
    "\n",
    "cv2.namedWindow(\"img\")\n",
    "cv2.setMouseCallback('img',mouse_handler)\n",
    "\n",
    "cv2.imshow(\"img\",src_img)\n",
    "cv2.waitKey(0)\n",
    "cv2.destroyAllWindows()"
   ]
  },
  {
   "cell_type": "markdown",
   "metadata": {},
   "source": [
    "- 실시간 선 긋기"
   ]
  },
  {
   "cell_type": "code",
   "execution_count": 12,
   "metadata": {},
   "outputs": [],
   "source": [
    "import cv2\n",
    "import numpy as np\n",
    "\n",
    "color = (255,255,0)\n",
    "thickness = 3\n",
    "drawing = False # 선을 그릴지 여부 \n",
    "\n",
    "point_list = []\n",
    "def mouse_handler(event,x,y,flags,param):\n",
    "    global drawing\n",
    "    dst_img = src_img.copy()\n",
    "    \n",
    "    if event == cv2.EVENT_LBUTTONDOWN:\n",
    "        drawing = True\n",
    "        point_list.append((x,y))\n",
    "        \n",
    "    if drawing:\n",
    "        prev_point = None               # 직선의 시작점\n",
    "        for point in point_list:\n",
    "            cv2.circle(dst_img, point, 15, color , cv2.FILLED)\n",
    "            if prev_point:\n",
    "                cv2.line(dst_img, prev_point, point, color, thickness, cv2.LINE_AA)\n",
    "            prev_point=point\n",
    "        \n",
    "    \n",
    "        next_point = (x,y)\n",
    "        if len(point_list) ==4:\n",
    "            show_result(point_list)     # 점 4개가 되면 결과출력\n",
    "            next_point = point_list[0]\n",
    "        \n",
    "        cv2.line(dst_img, prev_point, next_point, color, thickness, cv2.LINE_AA)\n",
    "            \n",
    "    cv2.imshow('img',dst_img)\n",
    "\n",
    "def show_result(point_list):\n",
    "    width, height = 530, 710\n",
    "\n",
    "    src = np.float32(point_list)\n",
    "    dst = np.array([[0,0],[width,0],[width,height],[0,height]], dtype=np.float32)\n",
    "\n",
    "    matrix = cv2.getPerspectiveTransform(src,dst)\n",
    "    result = cv2.warpPerspective(src_img, matrix, (width, height))\n",
    "    cv2.imshow(\"result\",result)\n",
    "\n",
    "        \n",
    "        \n",
    "src_img = cv2.imread(\"./poker.jpg\")\n",
    "\n",
    "cv2.namedWindow(\"img\")\n",
    "cv2.setMouseCallback('img',mouse_handler)\n",
    "\n",
    "cv2.imshow(\"img\",src_img)\n",
    "cv2.waitKey(0)\n",
    "cv2.destroyAllWindows()"
   ]
  }
 ],
 "metadata": {
  "kernelspec": {
   "display_name": "Python 3.8.8 ('base')",
   "language": "python",
   "name": "python3"
  },
  "language_info": {
   "codemirror_mode": {
    "name": "ipython",
    "version": 3
   },
   "file_extension": ".py",
   "mimetype": "text/x-python",
   "name": "python",
   "nbconvert_exporter": "python",
   "pygments_lexer": "ipython3",
   "version": "3.8.8"
  },
  "orig_nbformat": 4,
  "vscode": {
   "interpreter": {
    "hash": "ad2bdc8ecc057115af97d19610ffacc2b4e99fae6737bb82f5d7fb13d2f2c186"
   }
  }
 },
 "nbformat": 4,
 "nbformat_minor": 2
}
