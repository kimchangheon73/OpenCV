{
 "cells": [
  {
   "cell_type": "markdown",
   "metadata": {},
   "source": [
    "# 경계 사각형\n",
    "- 윤곽선의 경계면을 둘러싸는 사각형\n",
    " > boundingRect()"
   ]
  },
  {
   "cell_type": "code",
   "execution_count": 1,
   "metadata": {},
   "outputs": [],
   "source": [
    "import cv2\n",
    "img = cv2.imread(\"./card.png\")\n",
    "target_img = img.copy()         # 사본 이미지\n",
    "\n",
    "gray = cv2.cvtColor(img, cv2.COLOR_BGR2GRAY)\n",
    "ret, otsu = cv2.threshold(gray, -1, 255, cv2.THRESH_BINARY | cv2.THRESH_OTSU)\n",
    "\n",
    "contours, hierarchy = cv2.findContours(otsu, cv2.RETR_LIST, cv2.CHAIN_APPROX_NONE)          \n",
    "\n",
    "color = (0,200,0)\n",
    "\n",
    "for cnt in contours:\n",
    "    x, y, width, height = cv2.boundingRect(cnt)                     # 윤곽선을 둘러싸고 있는 각 좌표와 길이 정보를 반환\n",
    "    cv2.rectangle(target_img,(x,y), (x+width, y+height),color,2)    # 그릴 이미지, 좌상, 우하 , 색상, 두께\n",
    "\n",
    "cv2.imshow(\"img\",img)\n",
    "cv2.imshow(\"gray\",gray)\n",
    "cv2.imshow(\"otsu\",otsu)\n",
    "cv2.imshow(\"contour\",target_img)\n",
    "\n",
    "\n",
    "cv2.waitKey(0)\n",
    "cv2.destroyAllWindows()"
   ]
  },
  {
   "cell_type": "markdown",
   "metadata": {},
   "source": [
    "# 면적\n",
    "- 특정 크기를 초과하는 면적의 녀석만 구하고 싶을때 사용\n",
    "> contourArea()"
   ]
  },
  {
   "cell_type": "code",
   "execution_count": 2,
   "metadata": {},
   "outputs": [],
   "source": [
    "import cv2\n",
    "img = cv2.imread(\"./card.png\")\n",
    "target_img = img.copy()         # 사본 이미지\n",
    "\n",
    "gray = cv2.cvtColor(img, cv2.COLOR_BGR2GRAY)\n",
    "ret, otsu = cv2.threshold(gray, -1, 255, cv2.THRESH_BINARY | cv2.THRESH_OTSU)\n",
    "\n",
    "contours, hierarchy = cv2.findContours(otsu, cv2.RETR_LIST, cv2.CHAIN_APPROX_NONE)          \n",
    "\n",
    "color = (0,200,0)\n",
    "\n",
    "for cnt in contours:\n",
    "    if cv2.contourArea(cnt)>25000:\n",
    "        x, y, width, height = cv2.boundingRect(cnt)                     \n",
    "        cv2.rectangle(target_img,(x,y), (x+width, y+height),color,2)    \n",
    "\n",
    "\n",
    "cv2.imshow(\"img\",img)\n",
    "cv2.imshow(\"contour\",target_img)\n",
    "\n",
    "\n",
    "cv2.waitKey(0)\n",
    "cv2.destroyAllWindows()"
   ]
  }
 ],
 "metadata": {
  "kernelspec": {
   "display_name": "Python 3.9.7 ('base')",
   "language": "python",
   "name": "python3"
  },
  "language_info": {
   "codemirror_mode": {
    "name": "ipython",
    "version": 3
   },
   "file_extension": ".py",
   "mimetype": "text/x-python",
   "name": "python",
   "nbconvert_exporter": "python",
   "pygments_lexer": "ipython3",
   "version": "3.9.7"
  },
  "orig_nbformat": 4,
  "vscode": {
   "interpreter": {
    "hash": "8df4e0e0c796e2e15924145e6441c62a115ba500877f31d29fc14fd3395fcd67"
   }
  }
 },
 "nbformat": 4,
 "nbformat_minor": 2
}
