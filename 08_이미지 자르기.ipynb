{
 "cells": [
  {
   "cell_type": "code",
   "execution_count": 3,
   "id": "040fe250",
   "metadata": {},
   "outputs": [],
   "source": [
    "# 이미지 자르기 \n",
    "import cv2\n",
    "import numpy as np"
   ]
  },
  {
   "cell_type": "code",
   "execution_count": 8,
   "id": "889e7096",
   "metadata": {},
   "outputs": [],
   "source": [
    "# 영역을 잘라서 새로운 영역을 윈도우에 표시\n",
    "img = cv2.imread(\"./IMG_VIDEO/img.jpg\")\n",
    "img.shape      # (427, 640, 3)\n",
    "\n",
    "# (세로기준, 가로기준)\n",
    "crop = img[100:300, 200:500]\n",
    "\n",
    "cv2.imshow(\"img\",img)\n",
    "cv2.imshow(\"crop\",crop)\n",
    "cv2.waitKey(0)\n",
    "cv2.destroyAllWindows()"
   ]
  },
  {
   "cell_type": "code",
   "execution_count": 10,
   "id": "6ae33881",
   "metadata": {},
   "outputs": [],
   "source": [
    "# 영역을 잘라서 기존 윈도우에 표시\n",
    "img = cv2.imread(\"./IMG_VIDEO/img.jpg\")\n",
    "img.shape      # (427, 640, 3)\n",
    "\n",
    "crop = img[100:300, 200:500]\n",
    "img[0:200, 250:550] = crop\n",
    "cv2.imshow(\"img\",img)\n",
    "cv2.waitKey(0)\n",
    "cv2.destroyAllWindows()"
   ]
  },
  {
   "cell_type": "code",
   "execution_count": null,
   "id": "5110c2a8",
   "metadata": {},
   "outputs": [],
   "source": []
  }
 ],
 "metadata": {
  "kernelspec": {
   "display_name": "Python 3.7.3 64-bit",
   "language": "python",
   "name": "python3"
  },
  "language_info": {
   "codemirror_mode": {
    "name": "ipython",
    "version": 3
   },
   "file_extension": ".py",
   "mimetype": "text/x-python",
   "name": "python",
   "nbconvert_exporter": "python",
   "pygments_lexer": "ipython3",
   "version": "3.7.3"
  },
  "vscode": {
   "interpreter": {
    "hash": "5109d816b82be14675a6b11f8e0f0d2e80f029176ed3710d54e125caa8520dfd"
   }
  }
 },
 "nbformat": 4,
 "nbformat_minor": 5
}
