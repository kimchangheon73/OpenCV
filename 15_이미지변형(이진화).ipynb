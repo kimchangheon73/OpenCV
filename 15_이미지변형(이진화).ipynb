{
 "cells": [
  {
   "cell_type": "markdown",
   "metadata": {},
   "source": [
    "# 이미지 변형( 이진화 )\n",
    "- 이미지를 흰색과 검은색 2가지 색상의 이미지로 변환하는 것\n",
    "\n",
    "- Threshold ( 임계값 )\n",
    "    - 어떠한 상황에 따라 기준이 달라지는 것"
   ]
  },
  {
   "cell_type": "code",
   "execution_count": 2,
   "metadata": {},
   "outputs": [],
   "source": [
    "import cv2\n",
    "img = cv2.imread(\"./book.jpg\", cv2.IMREAD_GRAYSCALE)\n",
    "\n",
    "# 이미지, 기준, 기준이상처리값\n",
    "ret, binary = cv2.threshold(img, 127, 255, cv2.THRESH_BINARY)\n",
    "\n",
    "cv2.imshow(\"img\",img)\n",
    "cv2.imshow(\"binary\",binary)\n",
    "cv2.waitKey(0)\n",
    "cv2.destroyAllWindows()"
   ]
  },
  {
   "cell_type": "markdown",
   "metadata": {},
   "source": [
    "- Trackbar : 값 변환에 따른 변형 확인"
   ]
  },
  {
   "cell_type": "code",
   "execution_count": 4,
   "metadata": {},
   "outputs": [],
   "source": [
    "import cv2\n",
    "\n",
    "def empty(pos):\n",
    "    # print(pos)\n",
    "    pass\n",
    "\n",
    "img = cv2.imread(\"./book.jpg\", cv2.IMREAD_GRAYSCALE)\n",
    "\n",
    "name = \"TrackBar\"\n",
    "cv2.namedWindow(name) \n",
    "\n",
    "# bar이름, 창의 이름, 초기값, 최대값, 이벤트처리\n",
    "cv2.createTrackbar('trackbar',name, 127, 255, empty)\n",
    "\n",
    "while True:\n",
    "    # trackbar의 위치가 뭔지를 받아오는 함수\n",
    "    # bar이름, 창의 이름\n",
    "    thresh = cv2.getTrackbarPos('trackbar', name)\n",
    "    ret, binary = cv2.threshold(img, thresh, 255, cv2.THRESH_BINARY)\n",
    "    \n",
    "    if not ret:\n",
    "        break\n",
    "    \n",
    "    cv2.imshow(name, binary)\n",
    "    \n",
    "    if cv2.waitKey(1) == ord('q'):\n",
    "        break\n",
    "    \n",
    "cv2.destroyAllWindows()\n"
   ]
  },
  {
   "cell_type": "markdown",
   "metadata": {},
   "source": [
    "- 이진화 이미지 변형 임계값 확인"
   ]
  },
  {
   "cell_type": "code",
   "execution_count": 1,
   "metadata": {},
   "outputs": [],
   "source": [
    "import cv2\n",
    "\n",
    "def empty(pos):\n",
    "    # print(pos)\n",
    "    pass\n",
    "\n",
    "img = cv2.imread(\"./threshold.png.jpg\", cv2.IMREAD_GRAYSCALE)\n",
    "\n",
    "name = \"TrackBar\"\n",
    "cv2.namedWindow(name) \n",
    "\n",
    "# bar이름, 창의 이름, 초기값, 최대값, 이벤트처리\n",
    "cv2.createTrackbar('trackbar',name, 127, 255, empty)\n",
    "\n",
    "while True:\n",
    "    # trackbar의 위치가 뭔지를 받아오는 함수\n",
    "    # bar이름, 창의 이름\n",
    "    thresh = cv2.getTrackbarPos('trackbar', name)\n",
    "    ret, binary = cv2.threshold(img, thresh, 255, cv2.THRESH_BINARY)\n",
    "    \n",
    "    if not ret:\n",
    "        break\n",
    "    \n",
    "    cv2.imshow(\"img\",img)\n",
    "    cv2.imshow(name, binary)\n",
    "    \n",
    "    if cv2.waitKey(1) == ord('q'):\n",
    "        break\n",
    "    \n",
    "cv2.destroyAllWindows()\n"
   ]
  },
  {
   "cell_type": "code",
   "execution_count": 2,
   "metadata": {},
   "outputs": [],
   "source": [
    "import cv2\n",
    "img = cv2.imread(\"./threshold.png\", cv2.IMREAD_GRAYSCALE)\n",
    "\n",
    "ret, binary = cv2.threshold(img, 0, 255, cv2.THRESH_BINARY)\n",
    "ret, binary2 = cv2.threshold(img, 127, 255, cv2.THRESH_BINARY)\n",
    "ret, binary3 = cv2.threshold(img, 195, 255, cv2.THRESH_BINARY)\n",
    "ret, binary4 = cv2.threshold(img, 255, 255, cv2.THRESH_BINARY)\n",
    "\n",
    "cv2.imshow(\"img\",img)\n",
    "cv2.imshow(\"binary\",binary)\n",
    "cv2.imshow(\"binary2\",binary2)\n",
    "cv2.imshow(\"binary3\",binary3)\n",
    "cv2.imshow(\"binary4\",binary4)\n",
    "\n",
    "cv2.waitKey(0)\n",
    "cv2.destroyAllWindows()"
   ]
  },
  {
   "cell_type": "markdown",
   "metadata": {},
   "source": [
    "- Adaptive Threshold \n",
    "    - 이미지를 작은 영역으로 나눠서 임계치를 적용\n",
    "    - 이미지에 반사된 햇빛으로 인한 이진화 변환 데이터 손실을 해결하기 위한 방법"
   ]
  },
  {
   "cell_type": "code",
   "execution_count": 2,
   "metadata": {},
   "outputs": [],
   "source": [
    "import cv2\n",
    "\n",
    "def empty(pos):\n",
    "    # print(pos)\n",
    "    pass\n",
    "\n",
    "img = cv2.imread(\"./book.jpg\", cv2.IMREAD_GRAYSCALE)\n",
    "\n",
    "name = \"TrackBar\"\n",
    "cv2.namedWindow(name) \n",
    "\n",
    "cv2.createTrackbar('block_size',name, 25, 100, empty)       # 영역을 세분화 하기 위한 블록 크기를 지정 : 홀수만 가능 (1보다는 큰 값을 정의)\n",
    "cv2.createTrackbar('c',name, 3, 10, empty)                  # 일반적으로 양수의 값을 사용 \n",
    "\n",
    "while True:\n",
    "    block_size = cv2.getTrackbarPos('block_size', name)\n",
    "    c = cv2.getTrackbarPos('c', name)\n",
    "    \n",
    "    if block_size <=1:                                      # 1이하면 3으로\n",
    "        block_size=3\n",
    "        \n",
    "    if block_size %2 == 0:                                  # 짝수면 홀수로 \n",
    "        block_size+=1\n",
    "        \n",
    "    binary = cv2.adaptiveThreshold(img, 255, cv2.ADAPTIVE_THRESH_MEAN_C, cv2.THRESH_BINARY, block_size, c)\n",
    "     \n",
    "    cv2.imshow(name, binary)\n",
    "    if cv2.waitKey(1) == ord('q'):\n",
    "        break\n",
    "    \n",
    "cv2.destroyAllWindows()\n"
   ]
  },
  {
   "cell_type": "markdown",
   "metadata": {},
   "source": [
    "- 오츠알고리즘\n",
    "    - threshold값을 바꿔가며 최적의 임계치 값을 찾는 방법\n",
    "    - Bimodal Image에 사용하기에 적합 (히스토그램 상에서 최정점을 찍는 이미지)"
   ]
  },
  {
   "cell_type": "code",
   "execution_count": 2,
   "metadata": {},
   "outputs": [
    {
     "name": "stdout",
     "output_type": "stream",
     "text": [
      "ostu :  100.0\n"
     ]
    }
   ],
   "source": [
    "import cv2\n",
    "img = cv2.imread(\"./book.jpg\", cv2.IMREAD_GRAYSCALE)\n",
    "\n",
    "ret, binary = cv2.threshold(img, 127, 255, cv2.THRESH_BINARY)\n",
    "ret, otsu = cv2.threshold(img, -1, 255, cv2.THRESH_BINARY | cv2.THRESH_OTSU)        # 오츠가 알아서 최적의 값을 찾기에 임계치 값이 무시가 된다\n",
    "print(\"ostu : \",ret)\n",
    "\n",
    "cv2.imshow(\"img\",img)\n",
    "cv2.imshow(\"binary\",binary)\n",
    "cv2.imshow(\"ostu\",otsu)\n",
    "cv2.waitKey(0)\n",
    "cv2.destroyAllWindows()"
   ]
  }
 ],
 "metadata": {
  "kernelspec": {
   "display_name": "Python 3.9.7 ('base')",
   "language": "python",
   "name": "python3"
  },
  "language_info": {
   "codemirror_mode": {
    "name": "ipython",
    "version": 3
   },
   "file_extension": ".py",
   "mimetype": "text/x-python",
   "name": "python",
   "nbconvert_exporter": "python",
   "pygments_lexer": "ipython3",
   "version": "3.9.7"
  },
  "orig_nbformat": 4,
  "vscode": {
   "interpreter": {
    "hash": "8df4e0e0c796e2e15924145e6441c62a115ba500877f31d29fc14fd3395fcd67"
   }
  }
 },
 "nbformat": 4,
 "nbformat_minor": 2
}
