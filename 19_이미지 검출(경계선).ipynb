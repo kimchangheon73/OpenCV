{
 "cells": [
  {
   "cell_type": "markdown",
   "metadata": {},
   "source": [
    "# 이미지 검출 (경계선)"
   ]
  },
  {
   "cell_type": "markdown",
   "metadata": {},
   "source": [
    "- Canny Edge Detection"
   ]
  },
  {
   "cell_type": "code",
   "execution_count": 2,
   "metadata": {},
   "outputs": [],
   "source": [
    "import cv2\n",
    "img = cv2.imread(\"./snowman.png\")\n",
    "\n",
    "# 이미지, 하위 임계값, 상위 임계값\n",
    "# 상위 임계값 : 이미지 내 픽셀이 임계값보다 큰 값, 변화가 크다면 경계선으로 고려함\n",
    "# 하위 임계값 : 해당 값보다 적거나 변화가 적다면 경계선으로 고려하지 않음\n",
    "canny = cv2.Canny(img, 150, 200)\n",
    "\n",
    "cv2.imshow(\"img\",img)\n",
    "cv2.imshow(\"canny\",canny)\n",
    "cv2.waitKey(0)\n",
    "cv2.destroyAllWindows()"
   ]
  },
  {
   "cell_type": "code",
   "execution_count": 5,
   "metadata": {},
   "outputs": [],
   "source": [
    "import cv2\n",
    "\n",
    "def empty(pos):\n",
    "    pass\n",
    "\n",
    "img = cv2.imread(\"./snowman.png\")\n",
    "\n",
    "name = \"TrackBar\"\n",
    "cv2.namedWindow(name)\n",
    "cv2.createTrackbar(\"Threshold1\", name, 0, 255, empty)\n",
    "cv2.createTrackbar(\"Threshold2\", name, 0, 255, empty)\n",
    "\n",
    "while True:\n",
    "    threshold1 = cv2.getTrackbarPos(\"Threshold1\", name)\n",
    "    threshold2 = cv2.getTrackbarPos(\"Threshold2\", name)\n",
    "    \n",
    "    canny = cv2.Canny(img, threshold1, threshold2)\n",
    "\n",
    "    cv2.imshow(\"img\",img)\n",
    "    cv2.imshow(name,canny)\n",
    "    \n",
    "    if cv2.waitKey(1) == ord(\"q\"):\n",
    "        break\n",
    "    \n",
    "cv2.destroyAllWindows()"
   ]
  }
 ],
 "metadata": {
  "kernelspec": {
   "display_name": "Python 3.9.7 ('base')",
   "language": "python",
   "name": "python3"
  },
  "language_info": {
   "codemirror_mode": {
    "name": "ipython",
    "version": 3
   },
   "file_extension": ".py",
   "mimetype": "text/x-python",
   "name": "python",
   "nbconvert_exporter": "python",
   "pygments_lexer": "ipython3",
   "version": "3.9.7"
  },
  "orig_nbformat": 4,
  "vscode": {
   "interpreter": {
    "hash": "8df4e0e0c796e2e15924145e6441c62a115ba500877f31d29fc14fd3395fcd67"
   }
  }
 },
 "nbformat": 4,
 "nbformat_minor": 2
}
