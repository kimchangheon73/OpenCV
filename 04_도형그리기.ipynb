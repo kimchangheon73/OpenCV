{
 "cells": [
  {
   "cell_type": "markdown",
   "metadata": {},
   "source": [
    "# 3. 도형그리기"
   ]
  },
  {
   "cell_type": "code",
   "execution_count": 5,
   "metadata": {},
   "outputs": [],
   "source": [
    "# 빈 스케치북 그리기\n",
    "import numpy as np\n",
    "import cv2 \n",
    "\n",
    "img = np.zeros((480,640,3))    # (세로, 가로, 채널)의 크기의 스케치북 생성\n",
    "img[:] = (255,255,255)         # 흰색\n",
    "img[:] = (255,0,0)             # 파란색\n",
    "img[:] = (0,255,0)             # 초록색\n",
    "img[:] = (0,0,255)             # 빨간색\n",
    "\n",
    "cv2.imshow(\"img\",img)\n",
    "cv2.waitKey(0)\n",
    "cv2.destroyAllWindows()"
   ]
  },
  {
   "cell_type": "markdown",
   "metadata": {},
   "source": [
    "## 일부 영역 색칠"
   ]
  },
  {
   "cell_type": "code",
   "execution_count": 7,
   "metadata": {},
   "outputs": [],
   "source": [
    "img = np.zeros((480,640,3))\n",
    "\n",
    "img[100:200, 200:300] = (255,255,255)           # 세로 100~200 , 가로 200~300을 특정 색상으로 채움\n",
    "\n",
    "cv2.imshow(\"img\",img)\n",
    "cv2.waitKey(0)\n",
    "cv2.destroyAllWindows() "
   ]
  },
  {
   "cell_type": "markdown",
   "metadata": {},
   "source": [
    "## 직선\n",
    "- 직선의 종류\n",
    "    - cv2.LINE_4 : 상하좌우 4방향 연결선 \n",
    "    - cv2.LINE_8 : 대각선 포함 8방향 (기본값)\n",
    "    - cv2.LINE_AA : 부드러운 선"
   ]
  },
  {
   "cell_type": "code",
   "execution_count": 12,
   "metadata": {},
   "outputs": [],
   "source": [
    "img = np.zeros((480,640,3))\n",
    "COLOR = (0,255,255)                     # 노란색\n",
    "THICKNESS = 3                           # 선 두께\n",
    "\n",
    "# 그릴 위치 시작점(x, y), 끝점(x, y), 색상, 두께, 선종류\n",
    "cv2.line(img, (50,100),(400,50), COLOR, THICKNESS, cv2.LINE_8)        \n",
    "cv2.line(img, (50,200),(400,150), COLOR, THICKNESS, cv2.LINE_4)        \n",
    "cv2.line(img, (50,300),(400,250), COLOR, THICKNESS, cv2.LINE_AA)\n",
    "\n",
    "cv2.imshow(\"img\",img)\n",
    "cv2.waitKey(0)\n",
    "cv2.destroyAllWindows() "
   ]
  },
  {
   "cell_type": "markdown",
   "metadata": {},
   "source": [
    "## 원"
   ]
  },
  {
   "cell_type": "code",
   "execution_count": 16,
   "metadata": {},
   "outputs": [],
   "source": [
    "img = np.zeros((480,640,3))\n",
    "COLOR = (255,255,0)                     # 옥색                     \n",
    "THICKNESS = 3                           \n",
    "RADIOUS = 50                            # 반지름\n",
    "\n",
    "# 그릴위치, 원의 중심, 반지름, 색, 두께, 선종류\n",
    "cv2.circle(img, (320,240), RADIOUS, COLOR, THICKNESS, cv2.LINE_AA)\n",
    "cv2.circle(img, (240,320), RADIOUS, COLOR, cv2.FILLED, cv2.LINE_AA)    # 속이 꽉찬 원\n",
    "\n",
    "\n",
    "\n",
    "\n",
    "cv2.imshow(\"img\",img)\n",
    "cv2.waitKey(0)\n",
    "cv2.destroyAllWindows() "
   ]
  },
  {
   "cell_type": "markdown",
   "metadata": {},
   "source": [
    "## 사각형"
   ]
  },
  {
   "cell_type": "code",
   "execution_count": 19,
   "metadata": {},
   "outputs": [],
   "source": [
    "img = np.zeros((480,640,3))\n",
    "COLOR = (255,255,0)                                          \n",
    "THICKNESS = 3                           \n",
    "\n",
    "# 그릴 위치, 왼쪽 위 좌표, 오른쪽 아래 좌표, 색, 두께 \n",
    "cv2.rectangle(img, (100,100), (200,200), COLOR, THICKNESS)\n",
    "cv2.rectangle(img, (100,300), (200,400), COLOR, cv2.FILLED)    # 꽉찬 네모\n",
    "\n",
    "cv2.imshow(\"img\",img)\n",
    "cv2.waitKey(0)\n",
    "cv2.destroyAllWindows() "
   ]
  },
  {
   "cell_type": "markdown",
   "metadata": {},
   "source": [
    "## 다각형"
   ]
  },
  {
   "cell_type": "code",
   "execution_count": 26,
   "metadata": {},
   "outputs": [],
   "source": [
    "img = np.zeros((480,640,3))\n",
    "COLOR = (255,255,0)                                          \n",
    "THICKNESS = 3      \n",
    "\n",
    "pts1 = np.array([[100,100], [200,100], [100,200]])     \n",
    "pts2 = np.array([[200,100], [300,100], [300,200]])     \n",
    "                \n",
    "\n",
    "# 그릴위치, 좌표리스트, 시작끝점연결여부, 색, 두께\n",
    "cv2.polylines(img, [pts1], True, COLOR, THICKNESS)\n",
    "cv2.polylines(img, [pts2], True, COLOR, THICKNESS)\n",
    "cv2.polylines(img, [pts1+200,pts2+200], True, COLOR, THICKNESS)             # 그릴 도형을 리스트 형태로 같이 넣을 수 있음 \n",
    "\n",
    "\n",
    "pts3 = np.array([[[90,300], [190,300], [90,400]], [[190,300], [290,300], [290,400]]])\n",
    "cv2.fillPoly(img, pts3, COLOR)\n",
    "\n",
    "cv2.imshow(\"img\",img)\n",
    "cv2.waitKey(0)\n",
    "cv2.destroyAllWindows() "
   ]
  },
  {
   "cell_type": "markdown",
   "metadata": {},
   "source": [
    "# 별그리기 "
   ]
  },
  {
   "cell_type": "code",
   "execution_count": 33,
   "metadata": {},
   "outputs": [],
   "source": [
    "img = np.zeros((480,640,3))\n",
    "COLOR = (255,255,0)                                          \n",
    "THICKNESS = 3      \n",
    "\n",
    "pts1 = np.array([[140,150], [500,150], [200,430], [320,50], [440,430]])     \n",
    "            \n",
    "\n",
    "cv2.polylines(img, [pts1], True, COLOR, THICKNESS)\n",
    "\n",
    "cv2.imshow(\"img\",img)\n",
    "cv2.waitKey(0)\n",
    "cv2.destroyAllWindows() "
   ]
  }
 ],
 "metadata": {
  "kernelspec": {
   "display_name": "Python 3.7.3 64-bit",
   "language": "python",
   "name": "python3"
  },
  "language_info": {
   "codemirror_mode": {
    "name": "ipython",
    "version": 3
   },
   "file_extension": ".py",
   "mimetype": "text/x-python",
   "name": "python",
   "nbconvert_exporter": "python",
   "pygments_lexer": "ipython3",
   "version": "3.7.3"
  },
  "orig_nbformat": 4,
  "vscode": {
   "interpreter": {
    "hash": "5109d816b82be14675a6b11f8e0f0d2e80f029176ed3710d54e125caa8520dfd"
   }
  }
 },
 "nbformat": 4,
 "nbformat_minor": 2
}
