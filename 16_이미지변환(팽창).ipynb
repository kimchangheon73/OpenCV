{
 "cells": [
  {
   "cell_type": "markdown",
   "metadata": {},
   "source": [
    "# 이미지변환 (팽창)\n",
    "- 이미지를 확장하여 작은 구멍을 채움"
   ]
  },
  {
   "cell_type": "markdown",
   "metadata": {},
   "source": [
    "- 흰색 영역의 외각 주변에 흰색을 추가"
   ]
  },
  {
   "cell_type": "code",
   "execution_count": 5,
   "metadata": {},
   "outputs": [],
   "source": [
    "import cv2 \n",
    "import numpy as np\n",
    "\n",
    "# 팽창을 위해서는 커널이 필요함\n",
    "kernel = np.ones((3,3), dtype=np.uint8)\n",
    "\n",
    "img = cv2.imread('./dilate.png',cv2.IMREAD_GRAYSCALE)\n",
    "\n",
    "# 이미지, 커널, 팽창반복횟수 \n",
    "dilate1 = cv2.dilate(img, kernel, iterations=1)     # 반복회수\n",
    "dilate2 = cv2.dilate(img, kernel, iterations=2)     # 반복회수\n",
    "dilate3 = cv2.dilate(img, kernel, iterations=3)     # 반복회수\n",
    "\n",
    "cv2.imshow(\"gray\",img)\n",
    "cv2.imshow(\"d1\",dilate1)\n",
    "cv2.imshow(\"d2\",dilate2)\n",
    "cv2.imshow(\"d3\",dilate3)\n",
    "cv2.waitKey(0)\n",
    "cv2.destroyAllWindows()"
   ]
  }
 ],
 "metadata": {
  "kernelspec": {
   "display_name": "Python 3.9.7 ('base')",
   "language": "python",
   "name": "python3"
  },
  "language_info": {
   "codemirror_mode": {
    "name": "ipython",
    "version": 3
   },
   "file_extension": ".py",
   "mimetype": "text/x-python",
   "name": "python",
   "nbconvert_exporter": "python",
   "pygments_lexer": "ipython3",
   "version": "3.9.7"
  },
  "orig_nbformat": 4,
  "vscode": {
   "interpreter": {
    "hash": "8df4e0e0c796e2e15924145e6441c62a115ba500877f31d29fc14fd3395fcd67"
   }
  }
 },
 "nbformat": 4,
 "nbformat_minor": 2
}
