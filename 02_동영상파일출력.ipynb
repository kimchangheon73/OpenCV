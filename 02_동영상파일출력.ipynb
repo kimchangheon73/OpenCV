{
 "cells": [
  {
   "cell_type": "markdown",
   "metadata": {},
   "source": [
    "# 02. 동영상 출력\n",
    "- 수많은 이미지를 연속적으로 표현하는 것"
   ]
  },
  {
   "cell_type": "markdown",
   "metadata": {},
   "source": [
    "## 1. 동영상 파일 출력"
   ]
  },
  {
   "cell_type": "code",
   "execution_count": 3,
   "metadata": {},
   "outputs": [
    {
     "name": "stdout",
     "output_type": "stream",
     "text": [
      "더 이상 가져올 이미지가 없습니다\n"
     ]
    }
   ],
   "source": [
    "import cv2\n",
    "cap = cv2.VideoCapture(\"./video.mp4\")\n",
    "\n",
    "while cap.isOpened():                 # 동영상 파일이 올바로 열려있는가?\n",
    "    ret, frame = cap.read()           # ret : 비디오 가져오기 성공여부,    frame :  받아온 이미지 \n",
    "    if not ret:\n",
    "        print(\"더 이상 가져올 이미지가 없습니다\")\n",
    "        break\n",
    "    \n",
    "    cv2.imshow(\"video\",frame)\n",
    "    \n",
    "    if cv2.waitKey(25) == ord('q'):   # waitKey : 숫자를 조정함으로써 비디오의 속도를 조절가능 \n",
    "        print('사용자 입력에 의해 종료합니다')\n",
    "        break\n",
    "    \n",
    "\n",
    "cap.release()                         # 자원해제\n",
    "cv2.destroyAllWindows()"
   ]
  }
 ],
 "metadata": {
  "kernelspec": {
   "display_name": "Python 3.9.7 ('base')",
   "language": "python",
   "name": "python3"
  },
  "language_info": {
   "codemirror_mode": {
    "name": "ipython",
    "version": 3
   },
   "file_extension": ".py",
   "mimetype": "text/x-python",
   "name": "python",
   "nbconvert_exporter": "python",
   "pygments_lexer": "ipython3",
   "version": "3.9.7"
  },
  "orig_nbformat": 4,
  "vscode": {
   "interpreter": {
    "hash": "8df4e0e0c796e2e15924145e6441c62a115ba500877f31d29fc14fd3395fcd67"
   }
  }
 },
 "nbformat": 4,
 "nbformat_minor": 2
}
