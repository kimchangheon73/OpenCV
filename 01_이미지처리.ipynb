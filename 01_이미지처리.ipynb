{
 "cells": [
  {
   "cell_type": "markdown",
   "id": "2eb80534",
   "metadata": {},
   "source": [
    "## OpenCV ( Computer Vision)\n",
    "- 다양한 영상/이미지 처리에 사용되는 오픈소스 라이브러리\n",
    "- pip install opencv-python"
   ]
  },
  {
   "cell_type": "code",
   "execution_count": 1,
   "id": "e0a6bf6c",
   "metadata": {},
   "outputs": [],
   "source": [
    "import cv2"
   ]
  },
  {
   "cell_type": "code",
   "execution_count": 2,
   "id": "33d2d2e1",
   "metadata": {},
   "outputs": [],
   "source": [
    "img = cv2.imread(\"./img.jpg\")      # 해당경로의 파일 읽어오기\n",
    "cv2.imshow(\"img\",img)              # 'img'라는 창의 img파일 띄우기\n",
    "cv2.waitKey(0)                     #  입력키 대기( 시간 : ms단위 )\n",
    "cv2.destroyAllWindows()            # 모든 창 닫기 "
   ]
  },
  {
   "cell_type": "markdown",
   "id": "0710f907",
   "metadata": {},
   "source": [
    "## 1. 읽기 옵션 \n",
    "- cv2.IMREAD_COLOR : <Strong>컬러 이미지</Strong> 투명 영역은 무시 \n",
    "- cv2.IMREAD_GRAYSCALE :<Strong> 흑백 이미지</Strong>\n",
    "- cv2.IMREAD_UNCHANGED : <Strong>투명 영역</Strong>까지 포함 "
   ]
  },
  {
   "cell_type": "code",
   "execution_count": 3,
   "id": "726bc090",
   "metadata": {},
   "outputs": [],
   "source": [
    "# 흑백이미지\n",
    "img_color = cv2.imread(\"img.jpg\", cv2.IMREAD_COLOR)\n",
    "img_gray = cv2.imread(\"img.jpg\", cv2.IMREAD_GRAYSCALE)\n",
    "img_unchanged = cv2.imread(\"img.jpg\", cv2.IMREAD_UNCHANGED)\n",
    "\n",
    "cv2.imshow(\"img_color\",img_color)\n",
    "cv2.imshow(\"img_gray\",img_gray)\n",
    "cv2.imshow(\"img_unchanged\",img_unchanged)\n",
    "\n",
    "cv2.waitKey(0)\n",
    "cv2.destroyAllWindows()"
   ]
  },
  {
   "cell_type": "markdown",
   "id": "86b28492",
   "metadata": {},
   "source": [
    "## 2. Shape\n",
    "- 이미지의  heightm width, channel 정보"
   ]
  },
  {
   "cell_type": "code",
   "execution_count": 4,
   "id": "cfd9aaca",
   "metadata": {},
   "outputs": [
    {
     "data": {
      "text/plain": [
       "(390, 640, 3)"
      ]
     },
     "execution_count": 4,
     "metadata": {},
     "output_type": "execute_result"
    }
   ],
   "source": [
    "import cv2\n",
    "img = cv2.imread(\"img.jpg\")\n",
    "img.shape       # 세로, 가로, channel(3 = rgb)"
   ]
  }
 ],
 "metadata": {
  "kernelspec": {
   "display_name": "Python 3.9.7 ('base')",
   "language": "python",
   "name": "python3"
  },
  "language_info": {
   "codemirror_mode": {
    "name": "ipython",
    "version": 3
   },
   "file_extension": ".py",
   "mimetype": "text/x-python",
   "name": "python",
   "nbconvert_exporter": "python",
   "pygments_lexer": "ipython3",
   "version": "3.9.7"
  },
  "vscode": {
   "interpreter": {
    "hash": "8df4e0e0c796e2e15924145e6441c62a115ba500877f31d29fc14fd3395fcd67"
   }
  }
 },
 "nbformat": 4,
 "nbformat_minor": 5
}
