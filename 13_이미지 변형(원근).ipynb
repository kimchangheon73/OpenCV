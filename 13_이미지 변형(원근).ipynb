{
 "cells": [
  {
   "cell_type": "markdown",
   "id": "43dfc894",
   "metadata": {},
   "source": [
    "- 사다리꼴 이미지 펼치기"
   ]
  },
  {
   "cell_type": "code",
   "execution_count": 6,
   "id": "c667ac73",
   "metadata": {},
   "outputs": [],
   "source": [
    "import cv2\n",
    "import numpy as np\n",
    "img = cv2.imread(\"newspaper.jpg\")\n",
    "\n",
    "width, height = 640, 240\n",
    "\n",
    "src = np.array([[254,180],[505,180],[559,293],[226,293]], dtype=np.float32)\n",
    "dst = np.array([[0,0],[width,0],[width,height],[0,height]], dtype=np.float32)\n",
    "\n",
    "# src를 dst로 변환하기 위한 행렬 정보를 얻어오는 것 \n",
    "matrix = cv2.getPerspectiveTransform(src,dst)\n",
    "\n",
    "# 변환행렬 정보를 바탕으로 최종 정보를 가져오는 것 \n",
    "result = cv2.warpPerspective(img, matrix, (width, height))\n",
    "    \n",
    "cv2.imshow(\"img\",img)\n",
    "cv2.imshow(\"result\",result)\n",
    "cv2.waitKey(0)\n",
    "cv2.destroyAllWindows()"
   ]
  },
  {
   "cell_type": "markdown",
   "id": "e60bbe01",
   "metadata": {},
   "source": [
    "- 회전 이미지 펼치기"
   ]
  },
  {
   "cell_type": "code",
   "execution_count": 9,
   "id": "30389418",
   "metadata": {},
   "outputs": [],
   "source": [
    "import cv2\n",
    "import numpy as np\n",
    "img = cv2.imread(\"poker.jpg\")\n",
    "\n",
    "width, height = 530,710\n",
    "\n",
    "src = np.array([[702,143],[1133,414],[726,1007],[276,700]], dtype=np.float32)\n",
    "dst = np.array([[0,0],[width,0],[width,height],[0,height]], dtype=np.float32)\n",
    "\n",
    "matrix = cv2.getPerspectiveTransform(src,dst)\n",
    "result = cv2.warpPerspective(img, matrix, (width, height))\n",
    "    \n",
    "cv2.imshow(\"img\",img)\n",
    "cv2.imshow(\"result\",result)\n",
    "cv2.waitKey(0)\n",
    "cv2.destroyAllWindows()"
   ]
  }
 ],
 "metadata": {
  "kernelspec": {
   "display_name": "Python 3",
   "language": "python",
   "name": "python3"
  },
  "language_info": {
   "codemirror_mode": {
    "name": "ipython",
    "version": 3
   },
   "file_extension": ".py",
   "mimetype": "text/x-python",
   "name": "python",
   "nbconvert_exporter": "python",
   "pygments_lexer": "ipython3",
   "version": "3.8.8"
  },
  "vscode": {
   "interpreter": {
    "hash": "ad2bdc8ecc057115af97d19610ffacc2b4e99fae6737bb82f5d7fb13d2f2c186"
   }
  }
 },
 "nbformat": 4,
 "nbformat_minor": 5
}
