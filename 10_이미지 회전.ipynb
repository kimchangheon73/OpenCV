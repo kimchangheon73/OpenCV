{
 "cells": [
  {
   "cell_type": "code",
   "execution_count": 2,
   "id": "1430ae1a",
   "metadata": {},
   "outputs": [],
   "source": [
    "# 시계 방향으로 90도 회전\n",
    "import cv2\n",
    "img = cv2.imread(\"./IMG_VIDEO/img.jpg\")\n",
    "\n",
    "rotate_90 = cv2.rotate(img,cv2.ROTATE_90_CLOCKWISE)   # 시계 방향으로 90도 회전 \n",
    "\n",
    "cv2.imshow(\"img\",img)\n",
    "cv2.imshow(\"rotate_90\",rotate_90)\n",
    "\n",
    "cv2.waitKey(0)\n",
    "cv2.destroyAllWindows()"
   ]
  },
  {
   "cell_type": "code",
   "execution_count": 5,
   "id": "61c10b0e",
   "metadata": {},
   "outputs": [],
   "source": [
    "# 180도 회전\n",
    "import cv2\n",
    "img = cv2.imread(\"./IMG_VIDEO/img.jpg\")\n",
    "\n",
    "rotate_180 = cv2.rotate(img,cv2.ROTATE_180)   # 시계 방향으로 180도 회전 \n",
    "\n",
    "cv2.imshow(\"img\",img)\n",
    "cv2.imshow(\"rotate_90\",rotate_180)\n",
    "\n",
    "cv2.waitKey(0)\n",
    "cv2.destroyAllWindows()"
   ]
  },
  {
   "cell_type": "code",
   "execution_count": 6,
   "id": "00334d61",
   "metadata": {},
   "outputs": [],
   "source": [
    "# 시계 반대방향으로 90도 회전\n",
    "import cv2\n",
    "img = cv2.imread(\"./IMG_VIDEO/img.jpg\")\n",
    "\n",
    "rotate_270 = cv2.rotate(img,cv2.ROTATE_90_COUNTERCLOCKWISE)   # 시계 방향으로 270도 회전 \n",
    "\n",
    "cv2.imshow(\"img\",img)\n",
    "cv2.imshow(\"rotate_270\",rotate_270)\n",
    "\n",
    "cv2.waitKey(0)\n",
    "cv2.destroyAllWindows()"
   ]
  },
  {
   "cell_type": "code",
   "execution_count": 12,
   "id": "01196c83",
   "metadata": {},
   "outputs": [],
   "source": [
    "# 4방향 이미지\n",
    "import cv2\n",
    "img = cv2.imread(\"./IMG_VIDEO/img.jpg\")\n",
    "img = cv2.resize(img,(300,300))\n",
    "img_90 = cv2.rotate(img, cv2.ROTATE_90_CLOCKWISE)\n",
    "img_180 = cv2.rotate(img, cv2.ROTATE_180)\n",
    "img_270 = cv2.rotate(img, cv2.ROTATE_90_COUNTERCLOCKWISE)\n",
    "\n",
    "cv2.imshow(\"img\",img)\n",
    "cv2.imshow(\"img_90\",img_90)\n",
    "cv2.imshow(\"img_180\",img_180)\n",
    "cv2.imshow(\"img_270\",img_270)\n",
    "\n",
    "cv2.waitKey(0)\n",
    "cv2.destroyAllWindows()"
   ]
  }
 ],
 "metadata": {
  "kernelspec": {
   "display_name": "Python 3.9.7 ('base')",
   "language": "python",
   "name": "python3"
  },
  "language_info": {
   "codemirror_mode": {
    "name": "ipython",
    "version": 3
   },
   "file_extension": ".py",
   "mimetype": "text/x-python",
   "name": "python",
   "nbconvert_exporter": "python",
   "pygments_lexer": "ipython3",
   "version": "3.9.7"
  },
  "vscode": {
   "interpreter": {
    "hash": "8df4e0e0c796e2e15924145e6441c62a115ba500877f31d29fc14fd3395fcd67"
   }
  }
 },
 "nbformat": 4,
 "nbformat_minor": 5
}
