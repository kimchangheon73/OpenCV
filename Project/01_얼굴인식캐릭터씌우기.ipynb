{
 "cells": [
  {
   "cell_type": "markdown",
   "metadata": {},
   "source": [
    "# 프로젝트 : 얼굴을 인식하여 캐릭터 씌우기"
   ]
  },
  {
   "cell_type": "markdown",
   "metadata": {},
   "source": [
    "- Face Detection\n",
    "    - 이미지나 동영상에서 사람의 얼굴 특징을 찾는것 \n",
    "\n"
   ]
  },
  {
   "cell_type": "code",
   "execution_count": 1,
   "metadata": {},
   "outputs": [],
   "source": [
    "import mediapipe as mp"
   ]
  },
  {
   "cell_type": "code",
   "execution_count": 1,
   "metadata": {},
   "outputs": [
    {
     "ename": "ValueError",
     "evalue": "could not broadcast input array from shape (100,300,3) into shape (98,300,3)",
     "output_type": "error",
     "traceback": [
      "\u001b[1;31m---------------------------------------------------------------------------\u001b[0m",
      "\u001b[1;31mValueError\u001b[0m                                Traceback (most recent call last)",
      "\u001b[1;32mc:\\Users\\user\\이미지처리\\Project\\01_얼굴인식캐릭터씌우기.ipynb 셀 4\u001b[0m in \u001b[0;36m<cell line: 18>\u001b[1;34m()\u001b[0m\n\u001b[0;32m     <a href='vscode-notebook-cell:/c%3A/Users/user/%EC%9D%B4%EB%AF%B8%EC%A7%80%EC%B2%98%EB%A6%AC/Project/01_%EC%96%BC%EA%B5%B4%EC%9D%B8%EC%8B%9D%EC%BA%90%EB%A6%AD%ED%84%B0%EC%94%8C%EC%9A%B0%EA%B8%B0.ipynb#W3sZmlsZQ%3D%3D?line=53'>54</a>\u001b[0m         image[right_eye[\u001b[39m1\u001b[39m]\u001b[39m-\u001b[39m\u001b[39m50\u001b[39m : right_eye[\u001b[39m1\u001b[39m]\u001b[39m+\u001b[39m\u001b[39m50\u001b[39m, right_eye[\u001b[39m0\u001b[39m]\u001b[39m-\u001b[39m\u001b[39m50\u001b[39m : right_eye[\u001b[39m0\u001b[39m]\u001b[39m+\u001b[39m\u001b[39m50\u001b[39m] \u001b[39m=\u001b[39m image_right_eye\n\u001b[0;32m     <a href='vscode-notebook-cell:/c%3A/Users/user/%EC%9D%B4%EB%AF%B8%EC%A7%80%EC%B2%98%EB%A6%AC/Project/01_%EC%96%BC%EA%B5%B4%EC%9D%B8%EC%8B%9D%EC%BA%90%EB%A6%AD%ED%84%B0%EC%94%8C%EC%9A%B0%EA%B8%B0.ipynb#W3sZmlsZQ%3D%3D?line=54'>55</a>\u001b[0m         image[left_eye[\u001b[39m1\u001b[39m]\u001b[39m-\u001b[39m\u001b[39m50\u001b[39m : left_eye[\u001b[39m1\u001b[39m]\u001b[39m+\u001b[39m\u001b[39m50\u001b[39m, left_eye[\u001b[39m0\u001b[39m]\u001b[39m-\u001b[39m\u001b[39m50\u001b[39m : left_eye[\u001b[39m0\u001b[39m]\u001b[39m+\u001b[39m\u001b[39m50\u001b[39m] \u001b[39m=\u001b[39m image_left_eye\n\u001b[1;32m---> <a href='vscode-notebook-cell:/c%3A/Users/user/%EC%9D%B4%EB%AF%B8%EC%A7%80%EC%B2%98%EB%A6%AC/Project/01_%EC%96%BC%EA%B5%B4%EC%9D%B8%EC%8B%9D%EC%BA%90%EB%A6%AD%ED%84%B0%EC%94%8C%EC%9A%B0%EA%B8%B0.ipynb#W3sZmlsZQ%3D%3D?line=55'>56</a>\u001b[0m         image[nose_tip[\u001b[39m1\u001b[39m]\u001b[39m-\u001b[39m\u001b[39m50\u001b[39m : nose_tip[\u001b[39m1\u001b[39m]\u001b[39m+\u001b[39m\u001b[39m50\u001b[39m, nose_tip[\u001b[39m0\u001b[39m]\u001b[39m-\u001b[39m\u001b[39m150\u001b[39m : nose_tip[\u001b[39m0\u001b[39m]\u001b[39m+\u001b[39m\u001b[39m150\u001b[39m] \u001b[39m=\u001b[39m image_nose\n\u001b[0;32m     <a href='vscode-notebook-cell:/c%3A/Users/user/%EC%9D%B4%EB%AF%B8%EC%A7%80%EC%B2%98%EB%A6%AC/Project/01_%EC%96%BC%EA%B5%B4%EC%9D%B8%EC%8B%9D%EC%BA%90%EB%A6%AD%ED%84%B0%EC%94%8C%EC%9A%B0%EA%B8%B0.ipynb#W3sZmlsZQ%3D%3D?line=57'>58</a>\u001b[0m \u001b[39m# Flip the image horizontally for a selfie-view display.\u001b[39;00m\n\u001b[0;32m     <a href='vscode-notebook-cell:/c%3A/Users/user/%EC%9D%B4%EB%AF%B8%EC%A7%80%EC%B2%98%EB%A6%AC/Project/01_%EC%96%BC%EA%B5%B4%EC%9D%B8%EC%8B%9D%EC%BA%90%EB%A6%AD%ED%84%B0%EC%94%8C%EC%9A%B0%EA%B8%B0.ipynb#W3sZmlsZQ%3D%3D?line=58'>59</a>\u001b[0m cv2\u001b[39m.\u001b[39mimshow(\u001b[39m'\u001b[39m\u001b[39mMediaPipe Face Detection\u001b[39m\u001b[39m'\u001b[39m, cv2\u001b[39m.\u001b[39mresize(image, \u001b[39mNone\u001b[39;00m, fx\u001b[39m=\u001b[39m\u001b[39m0.5\u001b[39m, fy \u001b[39m=\u001b[39m\u001b[39m0.5\u001b[39m))\n",
      "\u001b[1;31mValueError\u001b[0m: could not broadcast input array from shape (100,300,3) into shape (98,300,3)"
     ]
    },
    {
     "ename": "",
     "evalue": "",
     "output_type": "error",
     "traceback": [
      "현재 셀 또는 이전 셀에서 코드를 실행하는 동안 Kernel이 충돌했습니다. 셀의 코드를 검토하여 오류의 가능한 원인을 식별하세요. 자세한 내용을 보려면 <a href='https://aka.ms/vscodeJupyterKernelCrash'> 여기 </a> 를 클릭하세요. 자세한 내용은 Jupyter <a href='command:jupyter.viewOutput'>로그</a>를 참조하세요."
     ]
    }
   ],
   "source": [
    "import cv2\n",
    "import mediapipe as mp\n",
    "\n",
    "# 얼굴을 찾고, 찾은 얼굴에 표시를 해주기 위한 변수 정의\n",
    "mp_face_detection = mp.solutions.face_detection         # 얼굴 검출을 위한 face_detection 모듈을 사용\n",
    "mp_drawing = mp.solutions.drawing_utils                 # 얼굴의 특징을 그리기 위한 drawing_utils 모듈을 사용\n",
    "\n",
    "cap = cv2.VideoCapture(0)\n",
    "\n",
    "# 이미지 불러오기\n",
    "image_right_eye = cv2.imread(\"./right_eye.png\")\n",
    "image_left_eye = cv2.imread(\"./left_eye.png\")\n",
    "image_nose = cv2.imread(\"./nose.png\")\n",
    "\n",
    "# model_selection : face-dection 객체를 만들 때 상황(0 : 1 = 근거리영상 : 원거리영상 )에 맞는 영상에 따라 선택\n",
    "# min_detection_confidence : 얼굴로 판단할 어느정도의 신뢰도를 정의 (treshold와 비슷한 개념)\n",
    "with mp_face_detection.FaceDetection(model_selection=0, min_detection_confidence=0.7) as face_detection:\n",
    "    while cap.isOpened():\n",
    "        success, image = cap.read()\n",
    "        if not success:\n",
    "            break\n",
    "\n",
    "        image.flags.writeable = False\n",
    "        image = cv2.cvtColor(image, cv2.COLOR_BGR2RGB)\n",
    "        results = face_detection.process(image)                 # process : 이미지로부터 얼굴을 검출해 결과를 반환하는 함수 \n",
    "\n",
    "        # Draw the face detection annotations on the image.\n",
    "        image.flags.writeable = True\n",
    "        image = cv2.cvtColor(image, cv2.COLOR_RGB2BGR)\n",
    "        \n",
    "        image = cv2.resize(image, (1920,1080))\n",
    "        \n",
    "        if results.detections:\n",
    "            # 6개의 특징을 추출 : 우좌/눈, 코 끝, 입중심, 우좌/귀( 귀구슬점, 이주 )\n",
    "            for detection in results.detections:\n",
    "                # mp_drawing.draw_detection(image, detection)     # 얼굴이라고 인식하는 6부분에 점을 찍기\n",
    "                \n",
    "                # 특정 위치 가져오기 ( 상대 위치임 )\n",
    "                keypoints = detection.location_data.relative_keypoints\n",
    "                right_eye = keypoints[0]                        # 오른쪽 눈\n",
    "                left_eye = keypoints[1]                         # 왼쪽 눈 \n",
    "                nose_tip = keypoints[2]                         # 코 끝부분\n",
    "                h, w, _ = image.shape                           # 이미지의 height, width, channel 3개의 정보 반환 \n",
    "                \n",
    "                right_eye = (int(right_eye.x * w), int(right_eye.y * h)-100)        # 이미지 내에서 실제 좌표 (x, y)\n",
    "                left_eye = (int(left_eye.x * w), int(left_eye.y * h)-100)\n",
    "                nose_tip = (int(nose_tip.x * w), int(nose_tip.y * h))\n",
    "                \n",
    "                # 각 특징에 이미지 그리기\n",
    "                # [오른쪽 눈 높이 설정 , 오른쪽 눈 너비 설정]  -- > [높이 100 , 너비 100]\n",
    "                image[right_eye[1]-50 : right_eye[1]+50, right_eye[0]-50 : right_eye[0]+50] = image_right_eye\n",
    "                image[left_eye[1]-50 : left_eye[1]+50, left_eye[0]-50 : left_eye[0]+50] = image_left_eye\n",
    "                image[nose_tip[1]-50 : nose_tip[1]+50, nose_tip[0]-150 : nose_tip[0]+150] = image_nose\n",
    "                \n",
    "        # Flip the image horizontally for a selfie-view display.\n",
    "        cv2.imshow('MediaPipe Face Detection', cv2.resize(image, None, fx=0.5, fy =0.5))\n",
    "        if cv2.waitKey(5) == ord('q'):\n",
    "            print(image.shape)\n",
    "            break\n",
    "cap.release()\n",
    "cv2.destroyAllWindows()"
   ]
  },
  {
   "cell_type": "markdown",
   "metadata": {},
   "source": [
    "\n",
    "- Face Recognition\n",
    "    - 이미지나 동영상에서 누구의 얼굴인지 찾는것"
   ]
  },
  {
   "cell_type": "markdown",
   "metadata": {},
   "source": [
    "### 추가학습\n",
    "\n",
    "- <a href = \"https://opencv-python.readthedocs.io/en/latest/\">openCV 추가학습 페이지</a>"
   ]
  }
 ],
 "metadata": {
  "kernelspec": {
   "display_name": "Python 3.9.12 ('base')",
   "language": "python",
   "name": "python3"
  },
  "language_info": {
   "codemirror_mode": {
    "name": "ipython",
    "version": 3
   },
   "file_extension": ".py",
   "mimetype": "text/x-python",
   "name": "python",
   "nbconvert_exporter": "python",
   "pygments_lexer": "ipython3",
   "version": "3.9.12"
  },
  "orig_nbformat": 4,
  "vscode": {
   "interpreter": {
    "hash": "a077222d77dfe082b8f1dd562ad70e458ac2ab76993a0b248ab0476e32e9e8dd"
   }
  }
 },
 "nbformat": 4,
 "nbformat_minor": 2
}
