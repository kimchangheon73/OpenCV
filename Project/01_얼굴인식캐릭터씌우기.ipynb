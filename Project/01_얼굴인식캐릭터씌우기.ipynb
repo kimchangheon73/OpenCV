{
 "cells": [
  {
   "cell_type": "markdown",
   "metadata": {},
   "source": [
    "# 프로젝트 : 얼굴을 인식하여 캐릭터 씌우기"
   ]
  },
  {
   "cell_type": "markdown",
   "metadata": {},
   "source": [
    "- Face Detection\n",
    "    - 이미지나 동영상에서 사람의 얼굴 특징을 찾는것 \n",
    "\n"
   ]
  },
  {
   "cell_type": "code",
   "execution_count": 1,
   "metadata": {},
   "outputs": [],
   "source": [
    "import mediapipe as mp"
   ]
  },
  {
   "cell_type": "code",
   "execution_count": 14,
   "metadata": {},
   "outputs": [],
   "source": [
    "import cv2\n",
    "import mediapipe as mp\n",
    "\n",
    "# 대상 이미지, x, y 좌표, width, height, 덮어씌울 이미지\n",
    "def overlay (image, x, y, w, h, overlay_image):\n",
    "    alpha = overlay_image[:,:,3]        # BGRA\n",
    "    mask_image = alpha/255              # 0~ 255의 값을 0~1사이의 값을 가지게 끔 한다 \n",
    "    \n",
    "    for c in range(0,3):                # BGR 순서대로 0,1,2 하는 것\n",
    "        image[y-h : y+h, x-w : x+w, c] = (overlay_image[:, :, c] * mask_image) + image[y-h : y+h, x-w : x+w, c] * (1-mask_image)\n",
    "        \n",
    "    \n",
    "\n",
    "# 얼굴을 찾고, 찾은 얼굴에 표시를 해주기 위한 변수 정의\n",
    "mp_face_detection = mp.solutions.face_detection         # 얼굴 검출을 위한 face_detection 모듈을 사용\n",
    "mp_drawing = mp.solutions.drawing_utils                 # 얼굴의 특징을 그리기 위한 drawing_utils 모듈을 사용\n",
    "\n",
    "\n",
    "cap = cv2.VideoCapture(\"./face_video.mp4\")\n",
    "\n",
    "# 이미지 불러오기\n",
    "image_right_eye = cv2.imread(\"./right_eye.png\")\n",
    "image_left_eye = cv2.imread(\"./left_eye.png\")\n",
    "image_nose = cv2.imread(\"./nose.png\")\n",
    "\n",
    "# model_selection : face-dection 객체를 만들 때 상황(0 : 1 = 근거리영상 : 원거리영상 )에 맞는 영상에 따라 선택\n",
    "# min_detection_confidence : 얼굴로 판단할 어느정도의 신뢰도를 정의 (treshold와 비슷한 개념)\n",
    "with mp_face_detection.FaceDetection(model_selection=0, min_detection_confidence=0.7) as face_detection:\n",
    "    while cap.isOpened():\n",
    "        success, image = cap.read()\n",
    "        if not success:\n",
    "            break\n",
    "\n",
    "        # To improve performance, optionally mark the image as not writeable to\n",
    "        # pass by reference.\n",
    "        image.flags.writeable = False\n",
    "        image = cv2.cvtColor(image, cv2.COLOR_BGR2RGB)\n",
    "        results = face_detection.process(image)                 # process : 이미지로부터 얼굴을 검출해 결과를 반환하는 함수 \n",
    "\n",
    "        # Draw the face detection annotations on the image.\n",
    "        image.flags.writeable = True\n",
    "        image = cv2.cvtColor(image, cv2.COLOR_RGB2BGR)\n",
    "        \n",
    "        if results.detections:\n",
    "            # 6개의 특징을 추출 : 우좌/눈, 코 끝, 입중심, 우좌/귀( 귀구슬점, 이주 )\n",
    "            for detection in results.detections:\n",
    "                # mp_drawing.draw_detection(image, detection)     # 얼굴이라고 인식하는 6부분에 점을 찍기\n",
    "                # print(detection)\n",
    "                \n",
    "                # 특정 위치 가져오기 ( 상대 위치임 )\n",
    "                keypoints = detection.location_data.relative_keypoints\n",
    "                right_eye = keypoints[0]                        # 오른쪽 눈\n",
    "                left_eye = keypoints[1]                         # 왼쪽 눈 \n",
    "                nose_tip = keypoints[2]                         # 코 끝부분\n",
    "                \n",
    "                h, w, _ = image.shape                           # 이미지의 height, width, channel 3개의 정보 반환 \n",
    "                \n",
    "                right_eye = (int(right_eye.x * w), int(right_eye.y * h)-100)        # 이미지 내에서 실제 좌표 (x, y)\n",
    "                left_eye = (int(left_eye.x * w), int(left_eye.y * h)-100)\n",
    "                nose_tip = (int(nose_tip.x * w), int(nose_tip.y * h))\n",
    "                \n",
    "                \n",
    "                # cv2.circle(image, right_eye, 50, (255,0,0), 10, cv2.LINE_AA)    # 양 눈에 동그라미 그리기\n",
    "                # cv2.circle(image, left_eye, 50, (0,255,0), 10, cv2.LINE_AA)\n",
    "                # cv2.circle(image, nose_tip, 70, (0,255,255), 10, cv2.LINE_AA)   # 코에 동그라미 그리기\n",
    "                \n",
    "                \n",
    "                # 각 특징에 이미지 그리기\n",
    "                # [오른쪽 눈 높이 설정 , 오른쪽 눈 너비 설정]  -- > [높이 100 , 너비 100]\n",
    "                image[right_eye[1]-50 : right_eye[1]+50, right_eye[0]-50 : right_eye[0]+50] = image_right_eye\n",
    "                image[left_eye[1]-50 : left_eye[1]+50, left_eye[0]-50 : left_eye[0]+50] = image_left_eye\n",
    "                image[nose_tip[1]-50 : nose_tip[1]+50, nose_tip[0]-150 : nose_tip[0]+150] = image_nose\n",
    "\n",
    "                \n",
    "                \n",
    "                \n",
    "                \n",
    "                \n",
    "        # Flip the image horizontally for a selfie-view display.\n",
    "        cv2.imshow('MediaPipe Face Detection', cv2.resize(image, None, fx=0.5, fy =0.5))\n",
    "        if cv2.waitKey(5) == ord('q'):\n",
    "            break\n",
    "cap.release()\n",
    "cv2.destroyAllWindows()"
   ]
  },
  {
   "cell_type": "markdown",
   "metadata": {},
   "source": [
    "\n",
    "- Face Recognition\n",
    "    - 이미지나 동영상에서 누구의 얼굴인지 찾는것"
   ]
  },
  {
   "cell_type": "markdown",
   "metadata": {},
   "source": [
    "### 추가학습\n",
    "\n",
    "- <a href = \"https://opencv-python.readthedocs.io/en/latest/\">openCV 추가학습 페이지</a>"
   ]
  }
 ],
 "metadata": {
  "kernelspec": {
   "display_name": "Python 3.9.7 ('base')",
   "language": "python",
   "name": "python3"
  },
  "language_info": {
   "name": "python",
   "version": "3.9.7"
  },
  "orig_nbformat": 4,
  "vscode": {
   "interpreter": {
    "hash": "8df4e0e0c796e2e15924145e6441c62a115ba500877f31d29fc14fd3395fcd67"
   }
  }
 },
 "nbformat": 4,
 "nbformat_minor": 2
}
