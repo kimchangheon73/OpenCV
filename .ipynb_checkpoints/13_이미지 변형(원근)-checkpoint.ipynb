{
 "cells": [
  {
   "cell_type": "code",
   "execution_count": 16,
   "id": "c667ac73",
   "metadata": {},
   "outputs": [],
   "source": [
    "import cv2\n",
    "import numpy as np\n",
    "img = cv2.imread(\"newspaper.jpg\")\n",
    "\n",
    "# 출력할 이미지의 가로, 세로 크기\n",
    "width, height, = 640, 240 \n",
    "\n",
    "# 선택한 이미지의 4지점 ( 사다리꼴 이미지의 4개 지점 )\n",
    "# 좌상, 우상, 우하, 좌하 ( 4개 지점 지정 )\n",
    "src = np.array([[252,191], [511,191], [559,284], [227,284] ], dtype =np.float32)\n",
    "\n",
    "# 표현할 이미지의 4개의 좌표를 지정 \n",
    "dst = np.array([[0,0], [width,0], [width,height], [0,height]], dtype = np.float32)\n",
    "\n",
    "# getPerspectiveTransform : src를 dst로 바꾸기 위한 변환 행렬을 얻어오는 작업 \n",
    "matrix = cv2.getPerspectiveTransform(src,dst)\n",
    "\n",
    "# warpPerspetive : 변환 행렬 값을 사용해 최종 변환 이미지를 값을 가져오는 작업\n",
    "result = cv2.warpPerspective(img, matrix, (width,height))\n",
    "\n",
    "cv2.imshow(\"img\",img)\n",
    "cv2.imshow(\"result\",result)\n",
    "\n",
    "cv2.waitKey(0)\n",
    "cv2.destroyAllWindows()"
   ]
  },
  {
   "cell_type": "markdown",
   "id": "2896d92b",
   "metadata": {},
   "source": [
    "### 회전된 이미지 올바로 세우기"
   ]
  },
  {
   "cell_type": "code",
   "execution_count": 18,
   "id": "2a207041",
   "metadata": {},
   "outputs": [],
   "source": [
    "import cv2\n",
    "import numpy as np\n",
    "img = cv2.imread(\"poker.jpg\")\n",
    "\n",
    "width, height, = 530, 710 \n",
    "\n",
    "src = np.array([[703,143],[1133,413],[726,1007],[276,700] ], dtype =np.float32)\n",
    "dst = np.array([[0,0], [width,0], [width,height], [0,height]], dtype = np.float32)\n",
    "\n",
    "matrix = cv2.getPerspectiveTransform(src,dst)\n",
    "result = cv2.warpPerspective(img, matrix, (width,height))\n",
    "\n",
    "cv2.imshow(\"img\",img)\n",
    "cv2.imshow(\"result\",result)\n",
    "\n",
    "cv2.waitKey(0)\n",
    "cv2.destroyAllWindows()"
   ]
  },
  {
   "cell_type": "markdown",
   "id": "0c4cb958",
   "metadata": {},
   "source": [
    "### 미니프로젝트 : 반자동 문서 스캐너"
   ]
  },
  {
   "cell_type": "markdown",
   "id": "4e638f8a",
   "metadata": {},
   "source": [
    "- 마우스 이벤트 등록"
   ]
  },
  {
   "cell_type": "code",
   "execution_count": 31,
   "id": "d89e9998",
   "metadata": {
    "scrolled": false
   },
   "outputs": [
    {
     "name": "stdout",
     "output_type": "stream",
     "text": [
      "왼쪽 버튼 down\n",
      "382 383\n",
      "왼쪽 버튼 up\n",
      "382 383\n",
      "왼쪽 버튼 down\n",
      "308 354\n",
      "왼쪽 버튼 up\n",
      "308 354\n",
      "왼쪽 버튼 더블 클릭\n",
      "왼쪽 버튼 up\n",
      "308 354\n"
     ]
    }
   ],
   "source": [
    "import cv2\n",
    "\n",
    "def mouse_handler(event, x, y, flages, params):\n",
    "    if event == cv2.EVENT_LBUTTONDOWN:\n",
    "        print(\"왼쪽 버튼 down\")\n",
    "        print(x,y)\n",
    "    elif event == cv2.EVENT_LBUTTONUP:\n",
    "        print(\"왼쪽 버튼 up\")\n",
    "        print(x,y)\n",
    "    elif event == cv2.EVENT_LBUTTONDBLCLK:\n",
    "        print(\"왼쪽 버튼 더블 클릭\")\n",
    "#     elif event == cv2.EVENT_MOUSEMOVE:\n",
    "#         print(\"마우스이동\")\n",
    "    elif event == cv2.EVENT_RBUTTONDOWN:\n",
    "        print(\"오른쪽 버튼 down\")\n",
    "    \n",
    "img = cv2.imread(\"poker.jpg\")\n",
    "\n",
    "# 지정한 이름의 윈도우를 먼저 만들어 두는 것, 마우스 이벤트 처리 핸들려 지정\n",
    "cv2.namedWindow('img')        \n",
    "\n",
    "# 해당 이름의 윈도우에 이벤트를 처라하기 위한 함수를 지정하는 것 \n",
    "cv2.setMouseCallback(\"img\", mouse_handler)\n",
    "\n",
    "\n",
    "cv2.imshow(\"img\",img)\n",
    "cv2.waitKey(0)\n",
    "cv2.destroyAllWindows()"
   ]
  },
  {
   "cell_type": "markdown",
   "id": "081f6998",
   "metadata": {},
   "source": [
    "##  프로젝트"
   ]
  },
  {
   "cell_type": "code",
   "execution_count": 1,
   "id": "f9eb5a6a",
   "metadata": {},
   "outputs": [],
   "source": [
    "import cv2\n",
    "import numpy as np\n",
    "\n",
    "point_list = []\n",
    "def mouse_handler(event, x, y, flages, params):\n",
    "    if event == cv2.EVENT_LBUTTONDOWN:\n",
    "        point_list.append((x,y))\n",
    "    for point in point_list:\n",
    "        cv2.circle(src_img, point, 5, (255,255,0), cv2.FILLED)\n",
    "    \n",
    "    cv2.imshow(\"img\",src_img)\n",
    "src_img = cv2.imread(\"poker.jpg\")\n",
    "\n",
    "\n",
    "cv2.namedWindow('img')        \n",
    "\n",
    "cv2.setMouseCallback(\"img\", mouse_handler)\n",
    "\n",
    "\n",
    "cv2.imshow(\"img\",src_img)\n",
    "cv2.waitKey(0)\n",
    "cv2.destroyAllWindows()"
   ]
  },
  {
   "cell_type": "code",
   "execution_count": null,
   "id": "dfab2314",
   "metadata": {},
   "outputs": [],
   "source": []
  }
 ],
 "metadata": {
  "kernelspec": {
   "display_name": "Python 3",
   "language": "python",
   "name": "python3"
  },
  "language_info": {
   "codemirror_mode": {
    "name": "ipython",
    "version": 3
   },
   "file_extension": ".py",
   "mimetype": "text/x-python",
   "name": "python",
   "nbconvert_exporter": "python",
   "pygments_lexer": "ipython3",
   "version": "3.8.8"
  }
 },
 "nbformat": 4,
 "nbformat_minor": 5
}
